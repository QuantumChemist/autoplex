{
 "cells": [
  {
   "metadata": {},
   "cell_type": "markdown",
   "source": "# RSS Workflow",
   "id": "ae6ddd9d4e9d8f53"
  },
  {
   "metadata": {},
   "cell_type": "code",
   "outputs": [],
   "execution_count": null,
   "source": [
    "import os\n",
    "\n",
    "os.environ[\"OMP_NUM_THREADS\"] = \"1\""
   ],
   "id": "cf5d5bd6a07166d7"
  },
  {
   "metadata": {},
   "cell_type": "markdown",
   "source": [
    "We will not perform VASP calculations in realtime for this tutorial, but rather mock vasp runs.\n",
    "Thus, it is necessary to set folders with pre-computed VASP output files for execution in the notebook.\n"
   ],
   "id": "f03eb0902c7d7e13"
  },
  {
   "metadata": {},
   "cell_type": "code",
   "outputs": [],
   "execution_count": null,
   "source": [
    "ref_paths = {}\n",
    "base_path = \"vasp/rss_Si_small/\"\n",
    "\n",
    "for i in range(20):\n",
    "    ref_paths[f\"static_bulk_{i}\"] = f\"{base_path}static_bulk_{i}\"\n",
    "\n",
    "ref_paths[\"static_isolated_0\"] = f\"{base_path}static_isolated_0\""
   ],
   "id": "371a2233e69ee8c8"
  },
  {
   "metadata": {},
   "cell_type": "markdown",
   "source": "We are using a config file to initialize the parameters of the workflow. You can take a look at it [here](https://github.com/autoatml/autoplex/blob/main/tutorials/rss_si_config.yaml)",
   "id": "f4445849a20af47c"
  },
  {
   "metadata": {},
   "cell_type": "code",
   "outputs": [],
   "execution_count": null,
   "source": [
    "from autoplex.settings import RssConfig\n",
    "\n",
    "rss_config = RssConfig.from_file(\"rss_si_config.yaml\")\n",
    "print(rss_config)"
   ],
   "id": "33b9a16c25f08012"
  },
  {
   "metadata": {},
   "cell_type": "markdown",
   "source": "Now, we use this configuration to start the RSSMaker. We have chose a very small number of structures here. In reality, you would need many hundreds of calculation per genertion.",
   "id": "6f7589a373fb909f"
  },
  {
   "metadata": {},
   "cell_type": "code",
   "outputs": [],
   "execution_count": null,
   "source": [
    "import warnings\n",
    "\n",
    "from atomate2.vasp.powerups import update_user_incar_settings, update_vasp_custodian_handlers\n",
    "from jobflow import Flow\n",
    "\n",
    "from autoplex.auto.rss.flows import RssMaker\n",
    "\n",
    "warnings.filterwarnings(\"ignore\")\n",
    "\n",
    "\n",
    "rss_job = RssMaker(name=\"rss\", rss_config=rss_config).make()\n",
    "\n",
    "autoplex_flow = update_user_incar_settings(Flow(jobs=[rss_job], output=rss_job.output), {\"NPAR\": 4})\n",
    "\n",
    "autoplex_flow = update_vasp_custodian_handlers(autoplex_flow, custom_handlers={})\n",
    "\n",
    "autoplex_flow.name = \"new test rss\""
   ],
   "id": "c7282894cecebd24"
  },
  {
   "cell_type": "code",
   "execution_count": null,
   "id": "f17a7c72b69e175e",
   "metadata": {
    "ExecuteTime": {
     "end_time": "2025-02-20T15:32:13.199834Z",
     "start_time": "2025-02-20T15:32:11.748696Z"
    },
    "execution": {
     "iopub.execute_input": "2025-02-21T08:51:31.401568Z",
     "iopub.status.busy": "2025-02-21T08:51:31.401176Z",
     "iopub.status.idle": "2025-02-21T09:11:03.605846Z",
     "shell.execute_reply": "2025-02-21T09:11:03.605183Z"
    }
   },
   "outputs": [],
   "source": [
    "from jobflow import run_locally\n",
    "from mock_vasp import mock_vasp\n",
    "\n",
    "with mock_vasp(ref_paths=ref_paths, clean_folders=True) as mf:\n",
    "    run_locally(\n",
    "        autoplex_flow,\n",
    "        create_folders=True,\n",
    "        ensure_success=True,\n",
    "        raise_immediately=True,\n",
    "    )"
   ]
  }
 ],
 "metadata": {
  "kernelspec": {
   "display_name": "Python 3",
   "language": "python",
   "name": "python3"
  },
  "language_info": {
   "codemirror_mode": {
    "name": "ipython",
    "version": 3
   },
   "file_extension": ".py",
   "mimetype": "text/x-python",
   "name": "python",
   "nbconvert_exporter": "python",
   "pygments_lexer": "ipython3",
   "version": "3.10.16"
  }
 },
 "nbformat": 4,
 "nbformat_minor": 5
}
